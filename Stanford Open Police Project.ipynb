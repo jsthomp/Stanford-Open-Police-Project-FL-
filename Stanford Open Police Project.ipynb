{
 "cells": [
  {
   "cell_type": "code",
   "execution_count": 1,
   "id": "aadceb54",
   "metadata": {},
   "outputs": [],
   "source": [
    "import pandas as pd\n",
    "import matplotlib.pyplot as plt\n",
    "%matplotlib inline\n",
    "import numpy as np\n",
    "import seaborn as sns"
   ]
  },
  {
   "cell_type": "code",
   "execution_count": 2,
   "id": "4cecd383",
   "metadata": {},
   "outputs": [
    {
     "name": "stderr",
     "output_type": "stream",
     "text": [
      "C:\\Users\\sthom\\AppData\\Local\\Temp\\ipykernel_17744\\3150667092.py:1: DtypeWarning: Columns (9,16,21,22,26,27) have mixed types. Specify dtype option on import or set low_memory=False.\n",
      "  fl = pd.read_csv('E:Stanford Open Policing Project-FL/FL.csv')\n"
     ]
    }
   ],
   "source": [
    "fl = pd.read_csv('E:Stanford Open Policing Project-FL/FL.csv')"
   ]
  },
  {
   "cell_type": "code",
   "execution_count": 3,
   "id": "c9470aa5",
   "metadata": {},
   "outputs": [
    {
     "data": {
      "text/html": [
       "<div>\n",
       "<style scoped>\n",
       "    .dataframe tbody tr th:only-of-type {\n",
       "        vertical-align: middle;\n",
       "    }\n",
       "\n",
       "    .dataframe tbody tr th {\n",
       "        vertical-align: top;\n",
       "    }\n",
       "\n",
       "    .dataframe thead th {\n",
       "        text-align: right;\n",
       "    }\n",
       "</style>\n",
       "<table border=\"1\" class=\"dataframe\">\n",
       "  <thead>\n",
       "    <tr style=\"text-align: right;\">\n",
       "      <th></th>\n",
       "      <th>id</th>\n",
       "      <th>state</th>\n",
       "      <th>stop_date</th>\n",
       "      <th>stop_time</th>\n",
       "      <th>location_raw</th>\n",
       "      <th>county_name</th>\n",
       "      <th>county_fips</th>\n",
       "      <th>fine_grained_location</th>\n",
       "      <th>police_department</th>\n",
       "      <th>driver_gender</th>\n",
       "      <th>...</th>\n",
       "      <th>search_type</th>\n",
       "      <th>contraband_found</th>\n",
       "      <th>stop_outcome</th>\n",
       "      <th>is_arrested</th>\n",
       "      <th>officer_id</th>\n",
       "      <th>officer_gender</th>\n",
       "      <th>officer_age</th>\n",
       "      <th>officer_race</th>\n",
       "      <th>officer_rank</th>\n",
       "      <th>out_of_state</th>\n",
       "    </tr>\n",
       "  </thead>\n",
       "  <tbody>\n",
       "    <tr>\n",
       "      <th>0</th>\n",
       "      <td>FL-2010-000001</td>\n",
       "      <td>FL</td>\n",
       "      <td>2010-01-01</td>\n",
       "      <td>23:11</td>\n",
       "      <td>SARASOTA</td>\n",
       "      <td>Sarasota County</td>\n",
       "      <td>12115.0</td>\n",
       "      <td>NaN</td>\n",
       "      <td>NaN</td>\n",
       "      <td>F</td>\n",
       "      <td>...</td>\n",
       "      <td>NaN</td>\n",
       "      <td>NaN</td>\n",
       "      <td>Citation</td>\n",
       "      <td>NaN</td>\n",
       "      <td>1743</td>\n",
       "      <td>NaN</td>\n",
       "      <td>NaN</td>\n",
       "      <td>NaN</td>\n",
       "      <td>CPL</td>\n",
       "      <td>False</td>\n",
       "    </tr>\n",
       "    <tr>\n",
       "      <th>1</th>\n",
       "      <td>FL-2010-000002</td>\n",
       "      <td>FL</td>\n",
       "      <td>2010-01-01</td>\n",
       "      <td>23:11</td>\n",
       "      <td>SARASOTA</td>\n",
       "      <td>Sarasota County</td>\n",
       "      <td>12115.0</td>\n",
       "      <td>NaN</td>\n",
       "      <td>NaN</td>\n",
       "      <td>NaN</td>\n",
       "      <td>...</td>\n",
       "      <td>NaN</td>\n",
       "      <td>False</td>\n",
       "      <td>Citation</td>\n",
       "      <td>False</td>\n",
       "      <td>1743</td>\n",
       "      <td>M</td>\n",
       "      <td>NaN</td>\n",
       "      <td>NaN</td>\n",
       "      <td>NaN</td>\n",
       "      <td>NaN</td>\n",
       "    </tr>\n",
       "    <tr>\n",
       "      <th>2</th>\n",
       "      <td>FL-2010-000003</td>\n",
       "      <td>FL</td>\n",
       "      <td>2010-01-06</td>\n",
       "      <td>16:14</td>\n",
       "      <td>DUVAL</td>\n",
       "      <td>Duval County</td>\n",
       "      <td>12031.0</td>\n",
       "      <td>JACKSONVILLE</td>\n",
       "      <td>NaN</td>\n",
       "      <td>F</td>\n",
       "      <td>...</td>\n",
       "      <td>NaN</td>\n",
       "      <td>False</td>\n",
       "      <td>Citation</td>\n",
       "      <td>False</td>\n",
       "      <td>2138</td>\n",
       "      <td>M</td>\n",
       "      <td>31.0</td>\n",
       "      <td>Black</td>\n",
       "      <td>TROOPER</td>\n",
       "      <td>True</td>\n",
       "    </tr>\n",
       "    <tr>\n",
       "      <th>3</th>\n",
       "      <td>FL-2010-000004</td>\n",
       "      <td>FL</td>\n",
       "      <td>2010-01-08</td>\n",
       "      <td>19:39</td>\n",
       "      <td>DUVAL</td>\n",
       "      <td>Duval County</td>\n",
       "      <td>12031.0</td>\n",
       "      <td>JACKSONVILLE</td>\n",
       "      <td>NaN</td>\n",
       "      <td>F</td>\n",
       "      <td>...</td>\n",
       "      <td>NaN</td>\n",
       "      <td>False</td>\n",
       "      <td>Misdemeanor Arrest</td>\n",
       "      <td>True</td>\n",
       "      <td>2595</td>\n",
       "      <td>M</td>\n",
       "      <td>29.0</td>\n",
       "      <td>White</td>\n",
       "      <td>TPR</td>\n",
       "      <td>False</td>\n",
       "    </tr>\n",
       "    <tr>\n",
       "      <th>4</th>\n",
       "      <td>FL-2010-000005</td>\n",
       "      <td>FL</td>\n",
       "      <td>2010-01-11</td>\n",
       "      <td>11:56</td>\n",
       "      <td>ST. LUCIE</td>\n",
       "      <td>St. Lucie County</td>\n",
       "      <td>12111.0</td>\n",
       "      <td>NaN</td>\n",
       "      <td>NaN</td>\n",
       "      <td>M</td>\n",
       "      <td>...</td>\n",
       "      <td>NaN</td>\n",
       "      <td>False</td>\n",
       "      <td>Misdemeanor Arrest</td>\n",
       "      <td>True</td>\n",
       "      <td>2586</td>\n",
       "      <td>M</td>\n",
       "      <td>26.0</td>\n",
       "      <td>White</td>\n",
       "      <td>TPR.</td>\n",
       "      <td>False</td>\n",
       "    </tr>\n",
       "    <tr>\n",
       "      <th>...</th>\n",
       "      <td>...</td>\n",
       "      <td>...</td>\n",
       "      <td>...</td>\n",
       "      <td>...</td>\n",
       "      <td>...</td>\n",
       "      <td>...</td>\n",
       "      <td>...</td>\n",
       "      <td>...</td>\n",
       "      <td>...</td>\n",
       "      <td>...</td>\n",
       "      <td>...</td>\n",
       "      <td>...</td>\n",
       "      <td>...</td>\n",
       "      <td>...</td>\n",
       "      <td>...</td>\n",
       "      <td>...</td>\n",
       "      <td>...</td>\n",
       "      <td>...</td>\n",
       "      <td>...</td>\n",
       "      <td>...</td>\n",
       "      <td>...</td>\n",
       "    </tr>\n",
       "    <tr>\n",
       "      <th>87</th>\n",
       "      <td>FL-2010-000088</td>\n",
       "      <td>FL</td>\n",
       "      <td>2010-01-20</td>\n",
       "      <td>07:49</td>\n",
       "      <td>LEON</td>\n",
       "      <td>Leon County</td>\n",
       "      <td>12073.0</td>\n",
       "      <td>NaN</td>\n",
       "      <td>NaN</td>\n",
       "      <td>F</td>\n",
       "      <td>...</td>\n",
       "      <td>NaN</td>\n",
       "      <td>False</td>\n",
       "      <td>Citation</td>\n",
       "      <td>False</td>\n",
       "      <td>1886</td>\n",
       "      <td>M</td>\n",
       "      <td>NaN</td>\n",
       "      <td>White</td>\n",
       "      <td>CPL.</td>\n",
       "      <td>False</td>\n",
       "    </tr>\n",
       "    <tr>\n",
       "      <th>88</th>\n",
       "      <td>FL-2010-000089</td>\n",
       "      <td>FL</td>\n",
       "      <td>2010-01-20</td>\n",
       "      <td>08:30</td>\n",
       "      <td>LEON</td>\n",
       "      <td>Leon County</td>\n",
       "      <td>12073.0</td>\n",
       "      <td>NaN</td>\n",
       "      <td>NaN</td>\n",
       "      <td>F</td>\n",
       "      <td>...</td>\n",
       "      <td>NaN</td>\n",
       "      <td>False</td>\n",
       "      <td>Citation</td>\n",
       "      <td>False</td>\n",
       "      <td>1886</td>\n",
       "      <td>M</td>\n",
       "      <td>NaN</td>\n",
       "      <td>White</td>\n",
       "      <td>CPL.</td>\n",
       "      <td>False</td>\n",
       "    </tr>\n",
       "    <tr>\n",
       "      <th>89</th>\n",
       "      <td>FL-2010-000090</td>\n",
       "      <td>FL</td>\n",
       "      <td>2010-01-20</td>\n",
       "      <td>08:46</td>\n",
       "      <td>LEON</td>\n",
       "      <td>Leon County</td>\n",
       "      <td>12073.0</td>\n",
       "      <td>NaN</td>\n",
       "      <td>NaN</td>\n",
       "      <td>M</td>\n",
       "      <td>...</td>\n",
       "      <td>NaN</td>\n",
       "      <td>False</td>\n",
       "      <td>Citation</td>\n",
       "      <td>False</td>\n",
       "      <td>1886</td>\n",
       "      <td>M</td>\n",
       "      <td>NaN</td>\n",
       "      <td>White</td>\n",
       "      <td>CPL.</td>\n",
       "      <td>False</td>\n",
       "    </tr>\n",
       "    <tr>\n",
       "      <th>90</th>\n",
       "      <td>FL-2010-000091</td>\n",
       "      <td>FL</td>\n",
       "      <td>2010-01-20</td>\n",
       "      <td>09:02</td>\n",
       "      <td>LEON</td>\n",
       "      <td>Leon County</td>\n",
       "      <td>12073.0</td>\n",
       "      <td>NaN</td>\n",
       "      <td>NaN</td>\n",
       "      <td>M</td>\n",
       "      <td>...</td>\n",
       "      <td>NaN</td>\n",
       "      <td>False</td>\n",
       "      <td>Citation</td>\n",
       "      <td>False</td>\n",
       "      <td>1886</td>\n",
       "      <td>M</td>\n",
       "      <td>NaN</td>\n",
       "      <td>White</td>\n",
       "      <td>CPL.</td>\n",
       "      <td>False</td>\n",
       "    </tr>\n",
       "    <tr>\n",
       "      <th>91</th>\n",
       "      <td>FL-2010-000092</td>\n",
       "      <td>FL</td>\n",
       "      <td>2010-01-20</td>\n",
       "      <td>09:09</td>\n",
       "      <td>HAMILTON</td>\n",
       "      <td>Hamilton County</td>\n",
       "      <td>12047.0</td>\n",
       "      <td>NaN</td>\n",
       "      <td>NaN</td>\n",
       "      <td>M</td>\n",
       "      <td>...</td>\n",
       "      <td>NaN</td>\n",
       "      <td>False</td>\n",
       "      <td>Warning</td>\n",
       "      <td>False</td>\n",
       "      <td>1978</td>\n",
       "      <td>M</td>\n",
       "      <td>31.0</td>\n",
       "      <td>White</td>\n",
       "      <td>TPR</td>\n",
       "      <td>False</td>\n",
       "    </tr>\n",
       "  </tbody>\n",
       "</table>\n",
       "<p>92 rows × 28 columns</p>\n",
       "</div>"
      ],
      "text/plain": [
       "                id state   stop_date stop_time location_raw       county_name  \\\n",
       "0   FL-2010-000001    FL  2010-01-01     23:11     SARASOTA   Sarasota County   \n",
       "1   FL-2010-000002    FL  2010-01-01     23:11     SARASOTA   Sarasota County   \n",
       "2   FL-2010-000003    FL  2010-01-06     16:14        DUVAL      Duval County   \n",
       "3   FL-2010-000004    FL  2010-01-08     19:39        DUVAL      Duval County   \n",
       "4   FL-2010-000005    FL  2010-01-11     11:56    ST. LUCIE  St. Lucie County   \n",
       "..             ...   ...         ...       ...          ...               ...   \n",
       "87  FL-2010-000088    FL  2010-01-20     07:49         LEON       Leon County   \n",
       "88  FL-2010-000089    FL  2010-01-20     08:30         LEON       Leon County   \n",
       "89  FL-2010-000090    FL  2010-01-20     08:46         LEON       Leon County   \n",
       "90  FL-2010-000091    FL  2010-01-20     09:02         LEON       Leon County   \n",
       "91  FL-2010-000092    FL  2010-01-20     09:09     HAMILTON   Hamilton County   \n",
       "\n",
       "    county_fips fine_grained_location  police_department driver_gender  ...  \\\n",
       "0       12115.0                   NaN                NaN             F  ...   \n",
       "1       12115.0                   NaN                NaN           NaN  ...   \n",
       "2       12031.0          JACKSONVILLE                NaN             F  ...   \n",
       "3       12031.0          JACKSONVILLE                NaN             F  ...   \n",
       "4       12111.0                   NaN                NaN             M  ...   \n",
       "..          ...                   ...                ...           ...  ...   \n",
       "87      12073.0                   NaN                NaN             F  ...   \n",
       "88      12073.0                   NaN                NaN             F  ...   \n",
       "89      12073.0                   NaN                NaN             M  ...   \n",
       "90      12073.0                   NaN                NaN             M  ...   \n",
       "91      12047.0                   NaN                NaN             M  ...   \n",
       "\n",
       "    search_type  contraband_found        stop_outcome is_arrested officer_id  \\\n",
       "0           NaN               NaN            Citation         NaN       1743   \n",
       "1           NaN             False            Citation       False       1743   \n",
       "2           NaN             False            Citation       False       2138   \n",
       "3           NaN             False  Misdemeanor Arrest        True       2595   \n",
       "4           NaN             False  Misdemeanor Arrest        True       2586   \n",
       "..          ...               ...                 ...         ...        ...   \n",
       "87          NaN             False            Citation       False       1886   \n",
       "88          NaN             False            Citation       False       1886   \n",
       "89          NaN             False            Citation       False       1886   \n",
       "90          NaN             False            Citation       False       1886   \n",
       "91          NaN             False             Warning       False       1978   \n",
       "\n",
       "   officer_gender officer_age officer_race officer_rank out_of_state  \n",
       "0             NaN         NaN          NaN          CPL        False  \n",
       "1               M         NaN          NaN          NaN          NaN  \n",
       "2               M        31.0        Black      TROOPER         True  \n",
       "3               M        29.0        White          TPR        False  \n",
       "4               M        26.0        White         TPR.        False  \n",
       "..            ...         ...          ...          ...          ...  \n",
       "87              M         NaN        White         CPL.        False  \n",
       "88              M         NaN        White         CPL.        False  \n",
       "89              M         NaN        White         CPL.        False  \n",
       "90              M         NaN        White         CPL.        False  \n",
       "91              M        31.0        White          TPR        False  \n",
       "\n",
       "[92 rows x 28 columns]"
      ]
     },
     "execution_count": 3,
     "metadata": {},
     "output_type": "execute_result"
    }
   ],
   "source": [
    "fl.head(92)"
   ]
  },
  {
   "cell_type": "markdown",
   "id": "996ed508",
   "metadata": {},
   "source": [
    "### Exploratory"
   ]
  },
  {
   "cell_type": "code",
   "execution_count": 4,
   "id": "78b36d6b",
   "metadata": {},
   "outputs": [
    {
     "name": "stdout",
     "output_type": "stream",
     "text": [
      "<class 'pandas.core.frame.DataFrame'>\n",
      "RangeIndex: 5421446 entries, 0 to 5421445\n",
      "Data columns (total 28 columns):\n",
      " #   Column                 Dtype  \n",
      "---  ------                 -----  \n",
      " 0   id                     object \n",
      " 1   state                  object \n",
      " 2   stop_date              object \n",
      " 3   stop_time              object \n",
      " 4   location_raw           object \n",
      " 5   county_name            object \n",
      " 6   county_fips            float64\n",
      " 7   fine_grained_location  object \n",
      " 8   police_department      float64\n",
      " 9   driver_gender          object \n",
      " 10  driver_age_raw         float64\n",
      " 11  driver_age             float64\n",
      " 12  driver_race_raw        object \n",
      " 13  driver_race            object \n",
      " 14  violation_raw          object \n",
      " 15  violation              object \n",
      " 16  search_conducted       object \n",
      " 17  search_type_raw        object \n",
      " 18  search_type            object \n",
      " 19  contraband_found       object \n",
      " 20  stop_outcome           object \n",
      " 21  is_arrested            object \n",
      " 22  officer_id             object \n",
      " 23  officer_gender         object \n",
      " 24  officer_age            float64\n",
      " 25  officer_race           object \n",
      " 26  officer_rank           object \n",
      " 27  out_of_state           object \n",
      "dtypes: float64(5), object(23)\n",
      "memory usage: 1.1+ GB\n"
     ]
    }
   ],
   "source": [
    "fl.info()"
   ]
  },
  {
   "cell_type": "code",
   "execution_count": 5,
   "id": "e44766c2",
   "metadata": {},
   "outputs": [
    {
     "data": {
      "text/plain": [
       "id                             0\n",
       "state                          0\n",
       "stop_date                      0\n",
       "stop_time                    214\n",
       "location_raw                   1\n",
       "county_name                  826\n",
       "county_fips                  826\n",
       "fine_grained_location    4186487\n",
       "police_department        5421446\n",
       "driver_gender            1316775\n",
       "driver_age_raw           1319560\n",
       "driver_age               1327591\n",
       "driver_race_raw             1344\n",
       "driver_race                 1345\n",
       "violation_raw             419696\n",
       "violation                 419686\n",
       "search_conducted          419686\n",
       "search_type_raw           423606\n",
       "search_type              5392504\n",
       "contraband_found          448628\n",
       "stop_outcome               51626\n",
       "is_arrested               419686\n",
       "officer_id                     0\n",
       "officer_gender            742232\n",
       "officer_age               993878\n",
       "officer_race             1250282\n",
       "officer_rank             1316302\n",
       "out_of_state             1314774\n",
       "dtype: int64"
      ]
     },
     "execution_count": 5,
     "metadata": {},
     "output_type": "execute_result"
    }
   ],
   "source": [
    "num_null = fl.isnull().sum()\n",
    "num_null"
   ]
  },
  {
   "cell_type": "code",
   "execution_count": 6,
   "id": "445176b3",
   "metadata": {},
   "outputs": [
    {
     "data": {
      "text/plain": [
       "(5421446, 28)"
      ]
     },
     "execution_count": 6,
     "metadata": {},
     "output_type": "execute_result"
    }
   ],
   "source": [
    "fl.shape"
   ]
  },
  {
   "cell_type": "code",
   "execution_count": 7,
   "id": "24fbfe8e",
   "metadata": {},
   "outputs": [
    {
     "data": {
      "text/plain": [
       "Index(['id', 'state', 'stop_date', 'stop_time', 'location_raw', 'county_name',\n",
       "       'county_fips', 'fine_grained_location', 'police_department',\n",
       "       'driver_gender', 'driver_age_raw', 'driver_age', 'driver_race_raw',\n",
       "       'driver_race', 'violation_raw', 'violation', 'search_conducted',\n",
       "       'search_type_raw', 'search_type', 'contraband_found', 'stop_outcome',\n",
       "       'is_arrested', 'officer_id', 'officer_gender', 'officer_age',\n",
       "       'officer_race', 'officer_rank', 'out_of_state'],\n",
       "      dtype='object')"
      ]
     },
     "execution_count": 7,
     "metadata": {},
     "output_type": "execute_result"
    }
   ],
   "source": [
    "fl.columns"
   ]
  },
  {
   "cell_type": "code",
   "execution_count": 8,
   "id": "f644cd6c",
   "metadata": {},
   "outputs": [
    {
     "data": {
      "text/plain": [
       "id                         0.000000\n",
       "state                      0.000000\n",
       "stop_date                  0.000000\n",
       "stop_time                  0.003947\n",
       "location_raw               0.000018\n",
       "county_name                0.015236\n",
       "county_fips                0.015236\n",
       "fine_grained_location     77.220856\n",
       "police_department        100.000000\n",
       "driver_gender             24.288262\n",
       "driver_age_raw            24.339632\n",
       "driver_age                24.487766\n",
       "driver_race_raw            0.024790\n",
       "driver_race                0.024809\n",
       "violation_raw              7.741403\n",
       "violation                  7.741219\n",
       "search_conducted           7.741219\n",
       "search_type_raw            7.813524\n",
       "search_type               99.466157\n",
       "contraband_found           8.275062\n",
       "stop_outcome               0.952255\n",
       "is_arrested                7.741219\n",
       "officer_id                 0.000000\n",
       "officer_gender            13.690665\n",
       "officer_age               18.332342\n",
       "officer_race              23.061781\n",
       "officer_rank              24.279537\n",
       "out_of_state              24.251353\n",
       "dtype: float64"
      ]
     },
     "execution_count": 8,
     "metadata": {},
     "output_type": "execute_result"
    }
   ],
   "source": [
    "#percentage of null values\n",
    "perct = (num_null / fl.shape[0]) * 100\n",
    "perct"
   ]
  },
  {
   "cell_type": "markdown",
   "id": "08b43fd2",
   "metadata": {},
   "source": [
    "### Reduce not needed columns"
   ]
  },
  {
   "cell_type": "code",
   "execution_count": 9,
   "id": "13ec550f",
   "metadata": {},
   "outputs": [],
   "source": [
    "#drop columns with missing data greater than 25% or has duplicate data\n",
    "fl = fl.drop(columns = ['fine_grained_location', 'police_department', 'driver_age_raw', 'driver_race_raw', 'violation_raw', 'search_type', 'state', 'county_name', 'county_fips'])"
   ]
  },
  {
   "cell_type": "code",
   "execution_count": 10,
   "id": "65e3c9ff",
   "metadata": {},
   "outputs": [
    {
     "data": {
      "text/plain": [
       "Index(['id', 'stop_date', 'stop_time', 'location_raw', 'driver_gender',\n",
       "       'driver_age', 'driver_race', 'violation', 'search_conducted',\n",
       "       'search_type_raw', 'contraband_found', 'stop_outcome', 'is_arrested',\n",
       "       'officer_id', 'officer_gender', 'officer_age', 'officer_race',\n",
       "       'officer_rank', 'out_of_state'],\n",
       "      dtype='object')"
      ]
     },
     "execution_count": 10,
     "metadata": {},
     "output_type": "execute_result"
    }
   ],
   "source": [
    "#diplay of columns now in dataframe\n",
    "fl.columns"
   ]
  },
  {
   "cell_type": "code",
   "execution_count": 11,
   "id": "01668362",
   "metadata": {},
   "outputs": [
    {
     "data": {
      "text/plain": [
       "id                   0.000000\n",
       "stop_date            0.000000\n",
       "stop_time            0.003947\n",
       "location_raw         0.000018\n",
       "driver_gender       24.288262\n",
       "driver_age          24.487766\n",
       "driver_race          0.024809\n",
       "violation            7.741219\n",
       "search_conducted     7.741219\n",
       "search_type_raw      7.813524\n",
       "contraband_found     8.275062\n",
       "stop_outcome         0.952255\n",
       "is_arrested          7.741219\n",
       "officer_id           0.000000\n",
       "officer_gender      13.690665\n",
       "officer_age         18.332342\n",
       "officer_race        23.061781\n",
       "officer_rank        24.279537\n",
       "out_of_state        24.251353\n",
       "dtype: float64"
      ]
     },
     "execution_count": 11,
     "metadata": {},
     "output_type": "execute_result"
    }
   ],
   "source": [
    "(fl.isnull().sum()/fl.shape[0])*100"
   ]
  },
  {
   "cell_type": "markdown",
   "id": "ec7fc9b1",
   "metadata": {},
   "source": [
    "### Stop date "
   ]
  },
  {
   "cell_type": "code",
   "execution_count": 12,
   "id": "a874242e",
   "metadata": {},
   "outputs": [
    {
     "data": {
      "text/plain": [
       "count        5421446\n",
       "unique          2488\n",
       "top       2010-09-03\n",
       "freq            4314\n",
       "Name: stop_date, dtype: object"
      ]
     },
     "execution_count": 12,
     "metadata": {},
     "output_type": "execute_result"
    }
   ],
   "source": [
    "fl.stop_date.describe()"
   ]
  },
  {
   "cell_type": "code",
   "execution_count": 13,
   "id": "0bb107e4",
   "metadata": {},
   "outputs": [
    {
     "name": "stdout",
     "output_type": "stream",
     "text": [
      "<class 'pandas.core.series.Series'>\n",
      "RangeIndex: 5421446 entries, 0 to 5421445\n",
      "Series name: stop_date\n",
      "Non-Null Count    Dtype \n",
      "--------------    ----- \n",
      "5421446 non-null  object\n",
      "dtypes: object(1)\n",
      "memory usage: 41.4+ MB\n"
     ]
    }
   ],
   "source": [
    "fl.stop_date.info()"
   ]
  },
  {
   "cell_type": "code",
   "execution_count": 14,
   "id": "afa476ec",
   "metadata": {},
   "outputs": [
    {
     "data": {
      "text/plain": [
       "'2010-01-01'"
      ]
     },
     "execution_count": 14,
     "metadata": {},
     "output_type": "execute_result"
    }
   ],
   "source": [
    "fl.stop_date.min()"
   ]
  },
  {
   "cell_type": "code",
   "execution_count": 15,
   "id": "1f103769",
   "metadata": {},
   "outputs": [
    {
     "data": {
      "text/plain": [
       "'2016-10-31'"
      ]
     },
     "execution_count": 15,
     "metadata": {},
     "output_type": "execute_result"
    }
   ],
   "source": [
    "fl.stop_date.max()"
   ]
  },
  {
   "cell_type": "code",
   "execution_count": 16,
   "id": "db3d31b4",
   "metadata": {},
   "outputs": [
    {
     "name": "stdout",
     "output_type": "stream",
     "text": [
      "0          2010-01-01\n",
      "1          2010-01-01\n",
      "2          2010-01-06\n",
      "3          2010-01-08\n",
      "4          2010-01-11\n",
      "              ...    \n",
      "5421441    2016-10-31\n",
      "5421442    2016-10-31\n",
      "5421443    2016-10-31\n",
      "5421444    2016-10-31\n",
      "5421445    2016-10-31\n",
      "Name: stop_date, Length: 5421446, dtype: object\n"
     ]
    }
   ],
   "source": [
    "print(fl.stop_date)"
   ]
  },
  {
   "cell_type": "markdown",
   "id": "79666365",
   "metadata": {},
   "source": [
    "### Driver age"
   ]
  },
  {
   "cell_type": "code",
   "execution_count": 17,
   "id": "6bd7116f",
   "metadata": {},
   "outputs": [
    {
     "data": {
      "text/plain": [
       "count    4093855.0\n",
       "mean          38.0\n",
       "std           15.0\n",
       "min           15.0\n",
       "25%           26.0\n",
       "50%           36.0\n",
       "75%           48.0\n",
       "max           99.0\n",
       "Name: driver_age, dtype: float64"
      ]
     },
     "execution_count": 17,
     "metadata": {},
     "output_type": "execute_result"
    }
   ],
   "source": [
    "fl.driver_age.describe().round()"
   ]
  },
  {
   "cell_type": "code",
   "execution_count": 18,
   "id": "60cbff1d",
   "metadata": {},
   "outputs": [
    {
     "data": {
      "image/png": "[encoded data removed]",
      "text/plain": [
       "<Figure size 432x288 with 1 Axes>"
      ]
     },
     "metadata": {
      "needs_background": "light"
     },
     "output_type": "display_data"
    }
   ],
   "source": [
    "#distribution driver age\n",
    "plt.hist(fl['driver_age'], bins=10, facecolor = 'b')\n",
    "plt.xlabel('driver_age')\n",
    "plt.ylabel('Count')\n",
    "plt.title('Distribution of Driver\\'s Age')\n",
    "plt.show()"
   ]
  },
  {
   "cell_type": "code",
   "execution_count": 19,
   "id": "d485bbb2",
   "metadata": {},
   "outputs": [
    {
     "data": {
      "text/plain": [
       "1327591"
      ]
     },
     "execution_count": 19,
     "metadata": {},
     "output_type": "execute_result"
    }
   ],
   "source": [
    "# number of NA values in driver_age\n",
    "fl.driver_age.isna().sum()"
   ]
  },
  {
   "cell_type": "code",
   "execution_count": 20,
   "id": "79410696",
   "metadata": {},
   "outputs": [
    {
     "data": {
      "text/plain": [
       "21.0    131985\n",
       "22.0    131939\n",
       "23.0    129998\n",
       "24.0    127066\n",
       "25.0    125092\n",
       "         ...  \n",
       "95.0        35\n",
       "97.0        15\n",
       "99.0        13\n",
       "96.0        10\n",
       "98.0         9\n",
       "Name: driver_age, Length: 85, dtype: int64"
      ]
     },
     "execution_count": 20,
     "metadata": {},
     "output_type": "execute_result"
    }
   ],
   "source": [
    "fl.driver_age.value_counts()"
   ]
  },
  {
   "cell_type": "markdown",
   "id": "2aa7c99c",
   "metadata": {},
   "source": [
    "### driver age has a high amount of null values 1128897, filling values with the mean creates an unusually high concentration of persons of that age, which would skew any analysis following\n",
    "\n",
    "#### As such we will eliminate all null values for the dataframe fl"
   ]
  },
  {
   "cell_type": "markdown",
   "id": "3f151e3c",
   "metadata": {},
   "source": [
    "### Eliminate rows with Null Values"
   ]
  },
  {
   "cell_type": "code",
   "execution_count": 21,
   "id": "34e55255",
   "metadata": {},
   "outputs": [],
   "source": [
    "#drop all rows with NaN values\n",
    "fl.dropna(axis=0, inplace=True)"
   ]
  },
  {
   "cell_type": "code",
   "execution_count": 22,
   "id": "37bf5d51",
   "metadata": {},
   "outputs": [
    {
     "data": {
      "text/plain": [
       "id                  0\n",
       "stop_date           0\n",
       "stop_time           0\n",
       "location_raw        0\n",
       "driver_gender       0\n",
       "driver_age          0\n",
       "driver_race         0\n",
       "violation           0\n",
       "search_conducted    0\n",
       "search_type_raw     0\n",
       "contraband_found    0\n",
       "stop_outcome        0\n",
       "is_arrested         0\n",
       "officer_id          0\n",
       "officer_gender      0\n",
       "officer_age         0\n",
       "officer_race        0\n",
       "officer_rank        0\n",
       "out_of_state        0\n",
       "dtype: int64"
      ]
     },
     "execution_count": 22,
     "metadata": {},
     "output_type": "execute_result"
    }
   ],
   "source": [
    "#no null values in dataframe\n",
    "fl.isnull().sum().round()"
   ]
  },
  {
   "cell_type": "markdown",
   "id": "b1da04b5",
   "metadata": {},
   "source": [
    "#### Returning to driver_age, for analysis"
   ]
  },
  {
   "cell_type": "code",
   "execution_count": 23,
   "id": "2990e52d",
   "metadata": {},
   "outputs": [
    {
     "data": {
      "text/plain": [
       "0"
      ]
     },
     "execution_count": 23,
     "metadata": {},
     "output_type": "execute_result"
    }
   ],
   "source": [
    "fl.driver_age.isnull().sum()"
   ]
  },
  {
   "cell_type": "code",
   "execution_count": 24,
   "id": "56ff9a1e",
   "metadata": {},
   "outputs": [
    {
     "data": {
      "image/png": "[encoded data removed]",
      "text/plain": [
       "<Figure size 432x288 with 1 Axes>"
      ]
     },
     "metadata": {
      "needs_background": "light"
     },
     "output_type": "display_data"
    }
   ],
   "source": [
    "#distribution driver age\n",
    "plt.hist(fl['driver_age'], bins=10, facecolor = 'b')\n",
    "plt.xlabel('driver_age')\n",
    "plt.ylabel('Count')\n",
    "plt.title('Distribution of Driver\\'s Age')\n",
    "plt.show()"
   ]
  },
  {
   "cell_type": "code",
   "execution_count": 25,
   "id": "cefd7bc4",
   "metadata": {},
   "outputs": [
    {
     "data": {
      "text/plain": [
       "count    2843482.0\n",
       "mean          38.0\n",
       "std           15.0\n",
       "min           15.0\n",
       "25%           25.0\n",
       "50%           35.0\n",
       "75%           48.0\n",
       "max           99.0\n",
       "Name: driver_age, dtype: float64"
      ]
     },
     "execution_count": 25,
     "metadata": {},
     "output_type": "execute_result"
    }
   ],
   "source": [
    "#reduced number of rows by droping na rows in fl\n",
    "fl.driver_age.describe().round()"
   ]
  },
  {
   "cell_type": "code",
   "execution_count": 26,
   "id": "ee00dff1",
   "metadata": {},
   "outputs": [
    {
     "data": {
      "text/plain": [
       "(2843482, 19)"
      ]
     },
     "execution_count": 26,
     "metadata": {},
     "output_type": "execute_result"
    }
   ],
   "source": [
    "fl.shape"
   ]
  },
  {
   "cell_type": "code",
   "execution_count": 27,
   "id": "56795518",
   "metadata": {},
   "outputs": [
    {
     "data": {
      "text/plain": [
       "Index(['id', 'stop_date', 'stop_time', 'location_raw', 'driver_gender',\n",
       "       'driver_age', 'driver_race', 'violation', 'search_conducted',\n",
       "       'search_type_raw', 'contraband_found', 'stop_outcome', 'is_arrested',\n",
       "       'officer_id', 'officer_gender', 'officer_age', 'officer_race',\n",
       "       'officer_rank', 'out_of_state'],\n",
       "      dtype='object')"
      ]
     },
     "execution_count": 27,
     "metadata": {},
     "output_type": "execute_result"
    }
   ],
   "source": [
    "fl.columns"
   ]
  },
  {
   "cell_type": "markdown",
   "id": "3c022bc9",
   "metadata": {},
   "source": [
    "### Location of stops"
   ]
  },
  {
   "cell_type": "code",
   "execution_count": 28,
   "id": "2dba103f",
   "metadata": {},
   "outputs": [
    {
     "data": {
      "text/plain": [
       "PALM BEACH    247968\n",
       "ORANGE        218148\n",
       "BROWARD       212491\n",
       "MIAMI-DADE    195894\n",
       "ST. LUCIE     143937\n",
       "               ...  \n",
       "GLADES          2944\n",
       "GULF            2582\n",
       "LAFAYETTE       2497\n",
       "ST LUCIE         334\n",
       "ST JOHNS         246\n",
       "Name: location_raw, Length: 69, dtype: int64"
      ]
     },
     "execution_count": 28,
     "metadata": {},
     "output_type": "execute_result"
    }
   ],
   "source": [
    "# location raw value counts\n",
    "fl.location_raw.value_counts()"
   ]
  },
  {
   "cell_type": "code",
   "execution_count": 29,
   "id": "83700a6e",
   "metadata": {},
   "outputs": [
    {
     "data": {
      "image/png": "[encoded data removed]",
      "text/plain": [
       "<Figure size 432x288 with 1 Axes>"
      ]
     },
     "metadata": {
      "needs_background": "light"
     },
     "output_type": "display_data"
    }
   ],
   "source": [
    "\n",
    "plt.hist(fl['location_raw'], bins=50, rwidth = .7, facecolor = 'g')\n",
    "plt.xlabel('location')\n",
    "plt.ylabel('Count')\n",
    "plt.xticks(rotation = 90)\n",
    "plt.title('Distribution of Location')\n",
    "plt.show()"
   ]
  },
  {
   "cell_type": "markdown",
   "id": "e482cf63",
   "metadata": {},
   "source": [
    "### Officers Gender"
   ]
  },
  {
   "cell_type": "code",
   "execution_count": 30,
   "id": "7e8536ea",
   "metadata": {},
   "outputs": [
    {
     "data": {
      "text/html": [
       "<div>\n",
       "<style scoped>\n",
       "    .dataframe tbody tr th:only-of-type {\n",
       "        vertical-align: middle;\n",
       "    }\n",
       "\n",
       "    .dataframe tbody tr th {\n",
       "        vertical-align: top;\n",
       "    }\n",
       "\n",
       "    .dataframe thead th {\n",
       "        text-align: right;\n",
       "    }\n",
       "</style>\n",
       "<table border=\"1\" class=\"dataframe\">\n",
       "  <thead>\n",
       "    <tr style=\"text-align: right;\">\n",
       "      <th></th>\n",
       "      <th>officer_gender</th>\n",
       "    </tr>\n",
       "  </thead>\n",
       "  <tbody>\n",
       "    <tr>\n",
       "      <th>M</th>\n",
       "      <td>2629584</td>\n",
       "    </tr>\n",
       "    <tr>\n",
       "      <th>F</th>\n",
       "      <td>213898</td>\n",
       "    </tr>\n",
       "  </tbody>\n",
       "</table>\n",
       "</div>"
      ],
      "text/plain": [
       "   officer_gender\n",
       "M         2629584\n",
       "F          213898"
      ]
     },
     "execution_count": 30,
     "metadata": {},
     "output_type": "execute_result"
    }
   ],
   "source": [
    "# dataframe officer gender counts\n",
    "gender = pd.DataFrame(fl.officer_gender.value_counts())\n",
    "gender "
   ]
  },
  {
   "cell_type": "code",
   "execution_count": 31,
   "id": "40deda05",
   "metadata": {},
   "outputs": [
    {
     "data": {
      "text/plain": [
       "2629584"
      ]
     },
     "execution_count": 31,
     "metadata": {},
     "output_type": "execute_result"
    }
   ],
   "source": [
    "# male officer gender\n",
    "ofcM = (fl['officer_gender'] == 'M').sum()\n",
    "ofcM"
   ]
  },
  {
   "cell_type": "code",
   "execution_count": 32,
   "id": "ad7c0e95",
   "metadata": {},
   "outputs": [
    {
     "data": {
      "text/plain": [
       "213898"
      ]
     },
     "execution_count": 32,
     "metadata": {},
     "output_type": "execute_result"
    }
   ],
   "source": [
    "# female officer gender\n",
    "ofcF = (fl['officer_gender'] == 'F').sum()\n",
    "ofcF"
   ]
  },
  {
   "cell_type": "code",
   "execution_count": 33,
   "id": "13e2de1b",
   "metadata": {},
   "outputs": [
    {
     "data": {
      "text/plain": [
       "2415686"
      ]
     },
     "execution_count": 33,
     "metadata": {},
     "output_type": "execute_result"
    }
   ],
   "source": [
    "# difference in officer genders\n",
    "gender_diff = ofcM - ofcF\n",
    "gender_diff"
   ]
  },
  {
   "cell_type": "code",
   "execution_count": 34,
   "id": "d0a0458e",
   "metadata": {},
   "outputs": [
    {
     "data": {
      "image/png": "[encoded data removed]",
      "text/plain": [
       "<Figure size 1080x720 with 1 Axes>"
      ]
     },
     "metadata": {
      "needs_background": "light"
     },
     "output_type": "display_data"
    }
   ],
   "source": [
    "# barplot of officer gender\n",
    "gender.plot.bar(figsize = (15, 10))\n",
    "plt.xlabel('Gender')\n",
    "plt.ylabel('Count')\n",
    "plt.title('Count of Gender')\n",
    "plt.show()"
   ]
  },
  {
   "cell_type": "markdown",
   "id": "9bb0554e",
   "metadata": {},
   "source": [
    " ### Officer Age"
   ]
  },
  {
   "cell_type": "code",
   "execution_count": 35,
   "id": "97854d17",
   "metadata": {},
   "outputs": [
    {
     "data": {
      "text/plain": [
       "count    2843482.0\n",
       "mean          38.0\n",
       "std           10.0\n",
       "min           19.0\n",
       "25%           30.0\n",
       "50%           39.0\n",
       "75%           46.0\n",
       "max           66.0\n",
       "Name: officer_age, dtype: float64"
      ]
     },
     "execution_count": 35,
     "metadata": {},
     "output_type": "execute_result"
    }
   ],
   "source": [
    "round(fl.officer_age.describe())"
   ]
  },
  {
   "cell_type": "code",
   "execution_count": 36,
   "id": "e1e69583",
   "metadata": {},
   "outputs": [
    {
     "data": {
      "text/plain": [
       "19.0"
      ]
     },
     "execution_count": 36,
     "metadata": {},
     "output_type": "execute_result"
    }
   ],
   "source": [
    "fl.officer_age.min()"
   ]
  },
  {
   "cell_type": "code",
   "execution_count": 37,
   "id": "9d4d2481",
   "metadata": {},
   "outputs": [
    {
     "data": {
      "text/plain": [
       "66.0"
      ]
     },
     "execution_count": 37,
     "metadata": {},
     "output_type": "execute_result"
    }
   ],
   "source": [
    "fl.officer_age.max()"
   ]
  },
  {
   "cell_type": "code",
   "execution_count": 38,
   "id": "c892b41d",
   "metadata": {},
   "outputs": [],
   "source": [
    "#ages below 18 are errors as must be at least 18 to be officer, and officers over 70 appear to outliers, these will be removed\n",
    "fl = fl[fl['officer_age'] < 70]\n",
    "fl = fl[fl['officer_age'] > 17]"
   ]
  },
  {
   "cell_type": "code",
   "execution_count": 39,
   "id": "ab394b7a",
   "metadata": {},
   "outputs": [
    {
     "data": {
      "text/plain": [
       "count    2843482.0\n",
       "mean          38.0\n",
       "std           10.0\n",
       "min           19.0\n",
       "25%           30.0\n",
       "50%           39.0\n",
       "75%           46.0\n",
       "max           66.0\n",
       "Name: officer_age, dtype: float64"
      ]
     },
     "execution_count": 39,
     "metadata": {},
     "output_type": "execute_result"
    }
   ],
   "source": [
    "#dataframe now reflects more accurate description of officer ages\n",
    "fl.officer_age.describe().round()"
   ]
  },
  {
   "cell_type": "code",
   "execution_count": 40,
   "id": "2b1fa240",
   "metadata": {},
   "outputs": [
    {
     "data": {
      "image/png": "[encoded data removed]",
      "text/plain": [
       "<Figure size 432x288 with 1 Axes>"
      ]
     },
     "metadata": {
      "needs_background": "light"
     },
     "output_type": "display_data"
    }
   ],
   "source": [
    "# histogram of officers ages\n",
    "plt.hist(fl['officer_age'], bins=10, facecolor = 'b')\n",
    "plt.xlabel('officer_age')\n",
    "plt.ylabel('Count')\n",
    "plt.title('Distribution of Officer\\'s Age')\n",
    "plt.show()"
   ]
  },
  {
   "cell_type": "code",
   "execution_count": 41,
   "id": "bba614e4",
   "metadata": {},
   "outputs": [
    {
     "data": {
      "text/plain": [
       "0"
      ]
     },
     "execution_count": 41,
     "metadata": {},
     "output_type": "execute_result"
    }
   ],
   "source": [
    "fl['officer_age'].isnull().sum()"
   ]
  },
  {
   "cell_type": "code",
   "execution_count": 42,
   "id": "b4d26c28",
   "metadata": {},
   "outputs": [
    {
     "data": {
      "text/html": [
       "<div>\n",
       "<style scoped>\n",
       "    .dataframe tbody tr th:only-of-type {\n",
       "        vertical-align: middle;\n",
       "    }\n",
       "\n",
       "    .dataframe tbody tr th {\n",
       "        vertical-align: top;\n",
       "    }\n",
       "\n",
       "    .dataframe thead th {\n",
       "        text-align: right;\n",
       "    }\n",
       "</style>\n",
       "<table border=\"1\" class=\"dataframe\">\n",
       "  <thead>\n",
       "    <tr style=\"text-align: right;\">\n",
       "      <th></th>\n",
       "      <th>officer_age</th>\n",
       "    </tr>\n",
       "  </thead>\n",
       "  <tbody>\n",
       "    <tr>\n",
       "      <th>44.0</th>\n",
       "      <td>103453</td>\n",
       "    </tr>\n",
       "    <tr>\n",
       "      <th>28.0</th>\n",
       "      <td>103251</td>\n",
       "    </tr>\n",
       "    <tr>\n",
       "      <th>45.0</th>\n",
       "      <td>103083</td>\n",
       "    </tr>\n",
       "    <tr>\n",
       "      <th>43.0</th>\n",
       "      <td>99587</td>\n",
       "    </tr>\n",
       "    <tr>\n",
       "      <th>46.0</th>\n",
       "      <td>98776</td>\n",
       "    </tr>\n",
       "    <tr>\n",
       "      <th>40.0</th>\n",
       "      <td>98205</td>\n",
       "    </tr>\n",
       "    <tr>\n",
       "      <th>41.0</th>\n",
       "      <td>96759</td>\n",
       "    </tr>\n",
       "    <tr>\n",
       "      <th>29.0</th>\n",
       "      <td>96390</td>\n",
       "    </tr>\n",
       "    <tr>\n",
       "      <th>27.0</th>\n",
       "      <td>95138</td>\n",
       "    </tr>\n",
       "    <tr>\n",
       "      <th>42.0</th>\n",
       "      <td>93864</td>\n",
       "    </tr>\n",
       "    <tr>\n",
       "      <th>26.0</th>\n",
       "      <td>91046</td>\n",
       "    </tr>\n",
       "    <tr>\n",
       "      <th>47.0</th>\n",
       "      <td>90335</td>\n",
       "    </tr>\n",
       "    <tr>\n",
       "      <th>25.0</th>\n",
       "      <td>90135</td>\n",
       "    </tr>\n",
       "    <tr>\n",
       "      <th>30.0</th>\n",
       "      <td>89909</td>\n",
       "    </tr>\n",
       "    <tr>\n",
       "      <th>35.0</th>\n",
       "      <td>89400</td>\n",
       "    </tr>\n",
       "    <tr>\n",
       "      <th>39.0</th>\n",
       "      <td>88290</td>\n",
       "    </tr>\n",
       "    <tr>\n",
       "      <th>31.0</th>\n",
       "      <td>87305</td>\n",
       "    </tr>\n",
       "    <tr>\n",
       "      <th>48.0</th>\n",
       "      <td>84176</td>\n",
       "    </tr>\n",
       "    <tr>\n",
       "      <th>37.0</th>\n",
       "      <td>83851</td>\n",
       "    </tr>\n",
       "    <tr>\n",
       "      <th>36.0</th>\n",
       "      <td>82863</td>\n",
       "    </tr>\n",
       "    <tr>\n",
       "      <th>38.0</th>\n",
       "      <td>81489</td>\n",
       "    </tr>\n",
       "    <tr>\n",
       "      <th>24.0</th>\n",
       "      <td>81377</td>\n",
       "    </tr>\n",
       "    <tr>\n",
       "      <th>34.0</th>\n",
       "      <td>80507</td>\n",
       "    </tr>\n",
       "    <tr>\n",
       "      <th>32.0</th>\n",
       "      <td>78492</td>\n",
       "    </tr>\n",
       "    <tr>\n",
       "      <th>33.0</th>\n",
       "      <td>76925</td>\n",
       "    </tr>\n",
       "    <tr>\n",
       "      <th>49.0</th>\n",
       "      <td>74551</td>\n",
       "    </tr>\n",
       "    <tr>\n",
       "      <th>50.0</th>\n",
       "      <td>69899</td>\n",
       "    </tr>\n",
       "    <tr>\n",
       "      <th>51.0</th>\n",
       "      <td>61635</td>\n",
       "    </tr>\n",
       "    <tr>\n",
       "      <th>23.0</th>\n",
       "      <td>58144</td>\n",
       "    </tr>\n",
       "    <tr>\n",
       "      <th>52.0</th>\n",
       "      <td>49193</td>\n",
       "    </tr>\n",
       "    <tr>\n",
       "      <th>53.0</th>\n",
       "      <td>45168</td>\n",
       "    </tr>\n",
       "    <tr>\n",
       "      <th>22.0</th>\n",
       "      <td>35197</td>\n",
       "    </tr>\n",
       "    <tr>\n",
       "      <th>54.0</th>\n",
       "      <td>34390</td>\n",
       "    </tr>\n",
       "    <tr>\n",
       "      <th>55.0</th>\n",
       "      <td>31425</td>\n",
       "    </tr>\n",
       "    <tr>\n",
       "      <th>56.0</th>\n",
       "      <td>26912</td>\n",
       "    </tr>\n",
       "    <tr>\n",
       "      <th>57.0</th>\n",
       "      <td>20628</td>\n",
       "    </tr>\n",
       "    <tr>\n",
       "      <th>58.0</th>\n",
       "      <td>15659</td>\n",
       "    </tr>\n",
       "    <tr>\n",
       "      <th>59.0</th>\n",
       "      <td>13405</td>\n",
       "    </tr>\n",
       "    <tr>\n",
       "      <th>21.0</th>\n",
       "      <td>10943</td>\n",
       "    </tr>\n",
       "    <tr>\n",
       "      <th>60.0</th>\n",
       "      <td>7351</td>\n",
       "    </tr>\n",
       "    <tr>\n",
       "      <th>61.0</th>\n",
       "      <td>7337</td>\n",
       "    </tr>\n",
       "    <tr>\n",
       "      <th>62.0</th>\n",
       "      <td>6924</td>\n",
       "    </tr>\n",
       "    <tr>\n",
       "      <th>63.0</th>\n",
       "      <td>5289</td>\n",
       "    </tr>\n",
       "    <tr>\n",
       "      <th>20.0</th>\n",
       "      <td>2152</td>\n",
       "    </tr>\n",
       "    <tr>\n",
       "      <th>64.0</th>\n",
       "      <td>1739</td>\n",
       "    </tr>\n",
       "    <tr>\n",
       "      <th>65.0</th>\n",
       "      <td>590</td>\n",
       "    </tr>\n",
       "    <tr>\n",
       "      <th>66.0</th>\n",
       "      <td>332</td>\n",
       "    </tr>\n",
       "    <tr>\n",
       "      <th>19.0</th>\n",
       "      <td>13</td>\n",
       "    </tr>\n",
       "  </tbody>\n",
       "</table>\n",
       "</div>"
      ],
      "text/plain": [
       "      officer_age\n",
       "44.0       103453\n",
       "28.0       103251\n",
       "45.0       103083\n",
       "43.0        99587\n",
       "46.0        98776\n",
       "40.0        98205\n",
       "41.0        96759\n",
       "29.0        96390\n",
       "27.0        95138\n",
       "42.0        93864\n",
       "26.0        91046\n",
       "47.0        90335\n",
       "25.0        90135\n",
       "30.0        89909\n",
       "35.0        89400\n",
       "39.0        88290\n",
       "31.0        87305\n",
       "48.0        84176\n",
       "37.0        83851\n",
       "36.0        82863\n",
       "38.0        81489\n",
       "24.0        81377\n",
       "34.0        80507\n",
       "32.0        78492\n",
       "33.0        76925\n",
       "49.0        74551\n",
       "50.0        69899\n",
       "51.0        61635\n",
       "23.0        58144\n",
       "52.0        49193\n",
       "53.0        45168\n",
       "22.0        35197\n",
       "54.0        34390\n",
       "55.0        31425\n",
       "56.0        26912\n",
       "57.0        20628\n",
       "58.0        15659\n",
       "59.0        13405\n",
       "21.0        10943\n",
       "60.0         7351\n",
       "61.0         7337\n",
       "62.0         6924\n",
       "63.0         5289\n",
       "20.0         2152\n",
       "64.0         1739\n",
       "65.0          590\n",
       "66.0          332\n",
       "19.0           13"
      ]
     },
     "execution_count": 42,
     "metadata": {},
     "output_type": "execute_result"
    }
   ],
   "source": [
    "#Officers ages\n",
    "age = pd.DataFrame(fl.officer_age.value_counts())\n",
    "age"
   ]
  },
  {
   "cell_type": "code",
   "execution_count": 43,
   "id": "0d94dfc5",
   "metadata": {},
   "outputs": [
    {
     "data": {
      "image/png": "[encoded data removed]",
      "text/plain": [
       "<Figure size 1080x720 with 1 Axes>"
      ]
     },
     "metadata": {
      "needs_background": "light"
     },
     "output_type": "display_data"
    }
   ],
   "source": [
    "#bar plot of officers ages\n",
    "age.plot.bar(figsize = (15, 10))\n",
    "plt.xlabel('Age')\n",
    "plt.ylabel('Count')\n",
    "plt.title('Count of Officer Age')\n",
    "plt.show()"
   ]
  },
  {
   "cell_type": "markdown",
   "id": "94ada928",
   "metadata": {},
   "source": [
    "### Officer Rank"
   ]
  },
  {
   "cell_type": "code",
   "execution_count": 44,
   "id": "80b422e1",
   "metadata": {},
   "outputs": [],
   "source": [
    "# making all column variations of Trooper the same TPR\n",
    "fl['officer_rank'] = fl['officer_rank'].replace([\"TROOPER\", \"TPR.\", \"TPOOPER\", \"S-TROOPER\"], \"TPR\") "
   ]
  },
  {
   "cell_type": "code",
   "execution_count": 45,
   "id": "b3baddc9",
   "metadata": {},
   "outputs": [],
   "source": [
    "# changing column variations of sergeant, lt., sr. Trooper and corporal to abreviations of \n",
    "fl['officer_rank'] = fl['officer_rank'].replace([\"SERGEANT\", \"LT.\", \"SR.TROOPER\", \"CORPORAL\"], [\"SGT\", \"LT\", \"SR TPR\", \"CPL\"])"
   ]
  },
  {
   "cell_type": "code",
   "execution_count": 46,
   "id": "2d6fa7e0",
   "metadata": {},
   "outputs": [],
   "source": [
    "# making all column names of to abreviations\n",
    "fl['officer_rank'] = fl['officer_rank'].replace([\"LIEUTENANT\", \"OFFICER\", \"SERGEANT`\", \"SR TROOPER\"], [\"LT\", \"OFC\", \"SGT\", \"SR TPR\"]) "
   ]
  },
  {
   "cell_type": "code",
   "execution_count": 47,
   "id": "96e9adbf",
   "metadata": {},
   "outputs": [
    {
     "data": {
      "text/plain": [
       "2          TPR\n",
       "3          TPR\n",
       "4          TPR\n",
       "8           LT\n",
       "13         TRP\n",
       "          ... \n",
       "4477924    SGT\n",
       "4477925    TPR\n",
       "4477927    TPR\n",
       "4477928    TPR\n",
       "4477929    TPR\n",
       "Name: officer_rank, Length: 2843482, dtype: object"
      ]
     },
     "execution_count": 47,
     "metadata": {},
     "output_type": "execute_result"
    }
   ],
   "source": [
    "# checking for abreviations\n",
    "fl['officer_rank']"
   ]
  },
  {
   "cell_type": "code",
   "execution_count": 48,
   "id": "859a9bc1",
   "metadata": {},
   "outputs": [
    {
     "data": {
      "text/html": [
       "<div>\n",
       "<style scoped>\n",
       "    .dataframe tbody tr th:only-of-type {\n",
       "        vertical-align: middle;\n",
       "    }\n",
       "\n",
       "    .dataframe tbody tr th {\n",
       "        vertical-align: top;\n",
       "    }\n",
       "\n",
       "    .dataframe thead th {\n",
       "        text-align: right;\n",
       "    }\n",
       "</style>\n",
       "<table border=\"1\" class=\"dataframe\">\n",
       "  <thead>\n",
       "    <tr style=\"text-align: right;\">\n",
       "      <th></th>\n",
       "      <th>officer_rank</th>\n",
       "    </tr>\n",
       "  </thead>\n",
       "  <tbody>\n",
       "    <tr>\n",
       "      <th>TPR</th>\n",
       "      <td>2390178</td>\n",
       "    </tr>\n",
       "    <tr>\n",
       "      <th>SGT</th>\n",
       "      <td>178214</td>\n",
       "    </tr>\n",
       "    <tr>\n",
       "      <th>CPL</th>\n",
       "      <td>135851</td>\n",
       "    </tr>\n",
       "    <tr>\n",
       "      <th>OFC</th>\n",
       "      <td>66132</td>\n",
       "    </tr>\n",
       "    <tr>\n",
       "      <th>LT</th>\n",
       "      <td>22081</td>\n",
       "    </tr>\n",
       "    <tr>\n",
       "      <th>...</th>\n",
       "      <td>...</td>\n",
       "    </tr>\n",
       "    <tr>\n",
       "      <th>TPR1CLASS</th>\n",
       "      <td>2</td>\n",
       "    </tr>\n",
       "    <tr>\n",
       "      <th>W</th>\n",
       "      <td>1</td>\n",
       "    </tr>\n",
       "    <tr>\n",
       "      <th>STAFF SGT</th>\n",
       "      <td>1</td>\n",
       "    </tr>\n",
       "    <tr>\n",
       "      <th>SGT/1CLASS</th>\n",
       "      <td>1</td>\n",
       "    </tr>\n",
       "    <tr>\n",
       "      <th>TPR 1ST CL</th>\n",
       "      <td>1</td>\n",
       "    </tr>\n",
       "  </tbody>\n",
       "</table>\n",
       "<p>81 rows × 1 columns</p>\n",
       "</div>"
      ],
      "text/plain": [
       "            officer_rank\n",
       "TPR              2390178\n",
       "SGT               178214\n",
       "CPL               135851\n",
       "OFC                66132\n",
       "LT                 22081\n",
       "...                  ...\n",
       "TPR1CLASS              2\n",
       "W                      1\n",
       "STAFF SGT              1\n",
       "SGT/1CLASS             1\n",
       "TPR 1ST CL             1\n",
       "\n",
       "[81 rows x 1 columns]"
      ]
     },
     "execution_count": 48,
     "metadata": {},
     "output_type": "execute_result"
    }
   ],
   "source": [
    "# checking column variables counts\n",
    "rank = pd.DataFrame(fl.officer_rank.value_counts())\n",
    "rank "
   ]
  },
  {
   "cell_type": "code",
   "execution_count": 49,
   "id": "972377af",
   "metadata": {},
   "outputs": [
    {
     "data": {
      "image/png": "[encoded data removed]",
      "text/plain": [
       "<Figure size 1080x720 with 1 Axes>"
      ]
     },
     "metadata": {
      "needs_background": "light"
     },
     "output_type": "display_data"
    }
   ],
   "source": [
    "# bar plot of officer ranks\n",
    "rank.plot.bar(figsize = (15, 10))\n",
    "plt.xlabel('rank')\n",
    "plt.ylabel('Count')\n",
    "plt.title('Count of Officer Rank')\n",
    "plt.show()"
   ]
  },
  {
   "cell_type": "markdown",
   "id": "9d5320ef",
   "metadata": {},
   "source": [
    "### Officer Race"
   ]
  },
  {
   "cell_type": "code",
   "execution_count": 50,
   "id": "8f0ac5b2",
   "metadata": {},
   "outputs": [
    {
     "data": {
      "text/plain": [
       "White       1973455\n",
       "Black        426486\n",
       "Hispanic     387255\n",
       "Other         35094\n",
       "Asian         21192\n",
       "Name: officer_race, dtype: int64"
      ]
     },
     "execution_count": 50,
     "metadata": {},
     "output_type": "execute_result"
    }
   ],
   "source": [
    "# officer race counts\n",
    "race = fl.officer_race.value_counts()\n",
    "race"
   ]
  },
  {
   "cell_type": "code",
   "execution_count": 51,
   "id": "d1694c71",
   "metadata": {},
   "outputs": [
    {
     "data": {
      "image/png": "[encoded data removed]",
      "text/plain": [
       "<Figure size 1080x720 with 1 Axes>"
      ]
     },
     "metadata": {
      "needs_background": "light"
     },
     "output_type": "display_data"
    }
   ],
   "source": [
    "# bar plot of race counts\n",
    "race.plot.bar(figsize = (15, 10))\n",
    "plt.xlabel('race')\n",
    "plt.ylabel('Count')\n",
    "plt.title('Count of Officer Race')\n",
    "plt.show()"
   ]
  },
  {
   "cell_type": "code",
   "execution_count": 52,
   "id": "6e05304a",
   "metadata": {},
   "outputs": [
    {
     "data": {
      "text/plain": [
       "<AxesSubplot:title={'center':'Percentage of Race'}>"
      ]
     },
     "execution_count": 52,
     "metadata": {},
     "output_type": "execute_result"
    },
    {
     "data": {
      "image/png": "[encoded data removed]",
      "text/plain": [
       "<Figure size 288x288 with 1 Axes>"
      ]
     },
     "metadata": {},
     "output_type": "display_data"
    }
   ],
   "source": [
    "# pie chart of percentage of officer race\n",
    "labels='White', 'Black', 'Hispanic', 'Other', 'Asian'\n",
    "race.plot(kind='pie', figsize=(4,4), title='Percentage of Race', labels=labels, label='', explode=(0.1, 0.1, 0.1, 0.1, 0.1), autopct='%1.1f%%')\n",
    "\n"
   ]
  },
  {
   "cell_type": "markdown",
   "id": "1e58ef11",
   "metadata": {},
   "source": [
    "### Stop outcome"
   ]
  },
  {
   "cell_type": "code",
   "execution_count": 53,
   "id": "59997a47",
   "metadata": {},
   "outputs": [
    {
     "data": {
      "text/plain": [
       "Citation                   2112597\n",
       "Warning                     569037\n",
       "Misdemeanor Arrest           88482\n",
       "Faulty Equipment Notice      68167\n",
       "Felony Arrest                 5199\n",
       "Name: stop_outcome, dtype: int64"
      ]
     },
     "execution_count": 53,
     "metadata": {},
     "output_type": "execute_result"
    }
   ],
   "source": [
    "# stop outcome variable counts\n",
    "outcome = fl.stop_outcome.value_counts()\n",
    "outcome"
   ]
  },
  {
   "cell_type": "code",
   "execution_count": 54,
   "id": "49955845",
   "metadata": {},
   "outputs": [
    {
     "data": {
      "text/plain": [
       "<AxesSubplot:title={'center':'Percentage of Stop Outcomes'}>"
      ]
     },
     "execution_count": 54,
     "metadata": {},
     "output_type": "execute_result"
    },
    {
     "data": {
      "image/png": "[encoded data removed]",
      "text/plain": [
       "<Figure size 288x288 with 1 Axes>"
      ]
     },
     "metadata": {},
     "output_type": "display_data"
    }
   ],
   "source": [
    "# pie chart of percentages of stop outcomes\n",
    "labels='Citation', 'Warning', 'Misdemeanor Arrest', 'Faulty Equipment Notice', 'Felony Arrest'\n",
    "outcome.plot(kind='pie', figsize=(4,4), title='Percentage of Stop Outcomes', labels=labels, label='', explode=(0.1, 0.1, 0.1, 0.1, 0.1), autopct='%1.1f%%')"
   ]
  },
  {
   "cell_type": "code",
   "execution_count": 55,
   "id": "810b8a59",
   "metadata": {},
   "outputs": [
    {
     "data": {
      "text/plain": [
       "Citation                   74.0\n",
       "Warning                    20.0\n",
       "Misdemeanor Arrest          3.0\n",
       "Faulty Equipment Notice     2.0\n",
       "Felony Arrest               0.0\n",
       "Name: stop_outcome, dtype: float64"
      ]
     },
     "execution_count": 55,
     "metadata": {},
     "output_type": "execute_result"
    }
   ],
   "source": [
    "#percentage of stop outcomes, rounded\n",
    "pctoutcome = round((fl.stop_outcome.value_counts()/fl.shape[0])*100)\n",
    "pctoutcome"
   ]
  },
  {
   "cell_type": "code",
   "execution_count": null,
   "id": "d5d87431",
   "metadata": {},
   "outputs": [],
   "source": []
  }
 ],
 "metadata": {
  "kernelspec": {
   "display_name": "Python 3 (ipykernel)",
   "language": "python",
   "name": "python3"
  },
  "language_info": {
   "codemirror_mode": {
    "name": "ipython",
    "version": 3
   },
   "file_extension": ".py",
   "mimetype": "text/x-python",
   "name": "python",
   "nbconvert_exporter": "python",
   "pygments_lexer": "ipython3",
   "version": "3.9.12"
  }
 },
 "nbformat": 4,
 "nbformat_minor": 5
}
